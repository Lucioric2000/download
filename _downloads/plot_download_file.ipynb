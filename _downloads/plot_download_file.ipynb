{
  "cells": [
    {
      "source": [
        "%matplotlib inline"
      ],
      "outputs": [],
      "cell_type": "code",
      "metadata": {
        "collapsed": false
      },
      "execution_count": null
    },
    {
      "source": [
        "\nDownloading files and zipfiles\n------------------------------\n\nThis example shows off how to download a file, and optionally unzip it.\n\n"
      ],
      "cell_type": "markdown",
      "metadata": {}
    },
    {
      "source": [
        "from download import download\nimport matplotlib.pyplot as plt\nimport pandas as pd\nimport os.path as op\nfrom glob import glob"
      ],
      "outputs": [],
      "cell_type": "code",
      "metadata": {
        "collapsed": false
      },
      "execution_count": null
    },
    {
      "source": [
        "Downloading a file simply requires that you have a URL.\n\n"
      ],
      "cell_type": "markdown",
      "metadata": {}
    },
    {
      "source": [
        "url = \"https://ndownloader.figshare.com/files/7010681\"\npath = download(url, './downloaded/boulder-precip.csv', replace=True)\ndata = pd.read_csv(path)\nax = data.plot('DATE', 'PRECIP')\nax.set(title=\"Precipitation over time in Boulder, CO\")\nplt.setp(ax.get_xticklabels(), rotation=45)\nplt.tight_layout()"
      ],
      "outputs": [],
      "cell_type": "code",
      "metadata": {
        "collapsed": false
      },
      "execution_count": null
    },
    {
      "source": [
        "You can optionally unzip the file to the directory of your choice\nusing ``zipfile=True``.\n\n"
      ],
      "cell_type": "markdown",
      "metadata": {}
    },
    {
      "source": [
        "url = \"http://www2.census.gov/geo/tiger/GENZ2016/shp/cb_2016_us_county_20m.zip\"\npath = download(url, './downloaded/counties/', replace=True, zipfile=True)\nprint(glob(op.join(path, '*')))\n\nplt.show()"
      ],
      "outputs": [],
      "cell_type": "code",
      "metadata": {
        "collapsed": false
      },
      "execution_count": null
    }
  ],
  "nbformat_minor": 0,
  "metadata": {
    "kernelspec": {
      "name": "python3",
      "language": "python",
      "display_name": "Python 3"
    },
    "language_info": {
      "name": "python",
      "codemirror_mode": {
        "name": "ipython",
        "version": 3
      },
      "pygments_lexer": "ipython3",
      "version": "3.5.3",
      "mimetype": "text/x-python",
      "file_extension": ".py",
      "nbconvert_exporter": "python"
    }
  },
  "nbformat": 4
}