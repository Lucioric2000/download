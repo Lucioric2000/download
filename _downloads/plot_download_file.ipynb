{
  "cells": [
    {
      "cell_type": "code",
      "outputs": [],
      "metadata": {
        "collapsed": false
      },
      "source": [
        "%matplotlib inline"
      ],
      "execution_count": null
    },
    {
      "cell_type": "markdown",
      "metadata": {},
      "source": [
        "\nDownloading files and zipfiles\n------------------------------\n\nThis example shows off how to download a file, and optionally unzip it.\n\n"
      ]
    },
    {
      "cell_type": "code",
      "outputs": [],
      "metadata": {
        "collapsed": false
      },
      "source": [
        "from download import download\nimport matplotlib.pyplot as plt\nimport pandas as pd\nimport os.path as op\nfrom glob import glob"
      ],
      "execution_count": null
    },
    {
      "cell_type": "markdown",
      "metadata": {},
      "source": [
        "Downloading a file simply requires that you have a URL.\n\n"
      ]
    },
    {
      "cell_type": "code",
      "outputs": [],
      "metadata": {
        "collapsed": false
      },
      "source": [
        "url = \"https://ndownloader.figshare.com/files/7010681\"\npath = download(url, './downloaded/boulder-precip.csv', replace=True)\ndata = pd.read_csv(path)\nax = data.plot('DATE', 'PRECIP')\nax.set(title=\"Precipitation over time in Boulder, CO\")\nplt.setp(ax.get_xticklabels(), rotation=45)\nplt.tight_layout()"
      ],
      "execution_count": null
    },
    {
      "cell_type": "markdown",
      "metadata": {},
      "source": [
        "You can optionally unzip the file to the directory of your choice\nusing ``zipfile=True``.\n\n"
      ]
    },
    {
      "cell_type": "code",
      "outputs": [],
      "metadata": {
        "collapsed": false
      },
      "source": [
        "url = \"http://www2.census.gov/geo/tiger/GENZ2016/shp/cb_2016_us_county_20m.zip\"\npath = download(url, './downloaded/counties/', replace=True, zipfile=True)\nprint(glob(op.join(path, '*')))\n\nplt.show()"
      ],
      "execution_count": null
    }
  ],
  "nbformat_minor": 0,
  "metadata": {
    "language_info": {
      "name": "python",
      "nbconvert_exporter": "python",
      "codemirror_mode": {
        "version": 3,
        "name": "ipython"
      },
      "mimetype": "text/x-python",
      "file_extension": ".py",
      "pygments_lexer": "ipython3",
      "version": "3.5.3"
    },
    "kernelspec": {
      "language": "python",
      "name": "python3",
      "display_name": "Python 3"
    }
  },
  "nbformat": 4
}