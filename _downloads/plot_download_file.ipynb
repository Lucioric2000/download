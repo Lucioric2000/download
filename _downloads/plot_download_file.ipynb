{
  "nbformat_minor": 0,
  "nbformat": 4,
  "cells": [
    {
      "outputs": [],
      "metadata": {
        "collapsed": false
      },
      "cell_type": "code",
      "source": [
        "%matplotlib inline"
      ],
      "execution_count": null
    },
    {
      "cell_type": "markdown",
      "source": [
        "\nDownloading files and zipfiles\n------------------------------\n\nThis example shows off how to download a file, and optionally unzip it.\n\n"
      ],
      "metadata": {}
    },
    {
      "outputs": [],
      "metadata": {
        "collapsed": false
      },
      "cell_type": "code",
      "source": [
        "from download import download\nimport matplotlib.pyplot as plt\nimport pandas as pd\nimport os.path as op\nfrom glob import glob"
      ],
      "execution_count": null
    },
    {
      "cell_type": "markdown",
      "source": [
        "Downloading a file simply requires that you have a URL.\n\n"
      ],
      "metadata": {}
    },
    {
      "outputs": [],
      "metadata": {
        "collapsed": false
      },
      "cell_type": "code",
      "source": [
        "url = \"https://ndownloader.figshare.com/files/7010681\"\npath = download(url, './downloaded/boulder-precip.csv', replace=True)\ndata = pd.read_csv(path)\nax = data.plot('DATE', 'PRECIP')\nax.set(title=\"Precipitation over time in Boulder, CO\")\nplt.setp(ax.get_xticklabels(), rotation=45)\nplt.tight_layout()"
      ],
      "execution_count": null
    },
    {
      "cell_type": "markdown",
      "source": [
        "You can optionally unzip the file to the directory of your choice\nusing ``zipfile=True``.\n\n"
      ],
      "metadata": {}
    },
    {
      "outputs": [],
      "metadata": {
        "collapsed": false
      },
      "cell_type": "code",
      "source": [
        "url = \"http://www2.census.gov/geo/tiger/GENZ2016/shp/cb_2016_us_county_20m.zip\"\npath = download(url, './downloaded/counties/', replace=True, zipfile=True)\nprint(glob(op.join(path, '*')))\n\nplt.show()"
      ],
      "execution_count": null
    }
  ],
  "metadata": {
    "kernelspec": {
      "name": "python3",
      "display_name": "Python 3",
      "language": "python"
    },
    "language_info": {
      "pygments_lexer": "ipython3",
      "file_extension": ".py",
      "version": "3.5.3",
      "nbconvert_exporter": "python",
      "mimetype": "text/x-python",
      "name": "python",
      "codemirror_mode": {
        "name": "ipython",
        "version": 3
      }
    }
  }
}